{
  "cells": [
    {
      "cell_type": "markdown",
      "metadata": {
        "id": "view-in-github",
        "colab_type": "text"
      },
      "source": [
        "<a href=\"https://colab.research.google.com/github/FlagTech/flagchat/blob/master/flagchat_usage.ipynb\" target=\"_parent\"><img src=\"https://colab.research.google.com/assets/colab-badge.svg\" alt=\"Open In Colab\"/></a>"
      ]
    },
    {
      "cell_type": "markdown",
      "source": [
        "# flagchat 套件用法示範"
      ],
      "metadata": {
        "id": "XeP8gN6eQZqo"
      }
    },
    {
      "cell_type": "markdown",
      "source": [
        "本套件主要將 openai ChatCompletion API 抽象化, 納入串流、function calling 功能, 並且將介面統一使用生成器產生回覆, 不論是否啟用串流模式, 都可用一致的方式取得回覆。另外, 也搭配 function calling 設計一個簡易的外掛系統。"
      ],
      "metadata": {
        "id": "SR-iKM00WuGE"
      }
    },
    {
      "cell_type": "markdown",
      "source": [
        "## 事前準備"
      ],
      "metadata": {
        "id": "hHfPJ7Y7QfaG"
      }
    },
    {
      "cell_type": "code",
      "execution_count": null,
      "metadata": {
        "colab": {
          "base_uri": "https://localhost:8080/"
        },
        "id": "R1CAsaxl9_v4",
        "outputId": "1deafb6d-59e2-4fd5-e0c7-d853ac7c7710"
      },
      "outputs": [
        {
          "output_type": "stream",
          "name": "stdout",
          "text": [
            "Collecting python-dotenv\n",
            "  Downloading python_dotenv-1.0.0-py3-none-any.whl (19 kB)\n",
            "Collecting openai\n",
            "  Downloading openai-0.27.8-py3-none-any.whl (73 kB)\n",
            "\u001b[?25l     \u001b[90m━━━━━━━━━━━━━━━━━━━━━━━━━━━━━━━━━━━━━━━━\u001b[0m \u001b[32m0.0/73.6 kB\u001b[0m \u001b[31m?\u001b[0m eta \u001b[36m-:--:--\u001b[0m\r\u001b[2K     \u001b[90m━━━━━━━━━━━━━━━━━━━━━━━━━━━━━━━━━━━━━━━━\u001b[0m \u001b[32m73.6/73.6 kB\u001b[0m \u001b[31m5.2 MB/s\u001b[0m eta \u001b[36m0:00:00\u001b[0m\n",
            "\u001b[?25hCollecting googlesearch-python\n",
            "  Downloading googlesearch-python-1.2.3.tar.gz (3.9 kB)\n",
            "  Preparing metadata (setup.py) ... \u001b[?25l\u001b[?25hdone\n",
            "Requirement already satisfied: requests>=2.20 in /usr/local/lib/python3.10/dist-packages (from openai) (2.27.1)\n",
            "Requirement already satisfied: tqdm in /usr/local/lib/python3.10/dist-packages (from openai) (4.65.0)\n",
            "Requirement already satisfied: aiohttp in /usr/local/lib/python3.10/dist-packages (from openai) (3.8.4)\n",
            "Requirement already satisfied: beautifulsoup4>=4.9 in /usr/local/lib/python3.10/dist-packages (from googlesearch-python) (4.11.2)\n",
            "Requirement already satisfied: soupsieve>1.2 in /usr/local/lib/python3.10/dist-packages (from beautifulsoup4>=4.9->googlesearch-python) (2.4.1)\n",
            "Requirement already satisfied: urllib3<1.27,>=1.21.1 in /usr/local/lib/python3.10/dist-packages (from requests>=2.20->openai) (1.26.16)\n",
            "Requirement already satisfied: certifi>=2017.4.17 in /usr/local/lib/python3.10/dist-packages (from requests>=2.20->openai) (2023.5.7)\n",
            "Requirement already satisfied: charset-normalizer~=2.0.0 in /usr/local/lib/python3.10/dist-packages (from requests>=2.20->openai) (2.0.12)\n",
            "Requirement already satisfied: idna<4,>=2.5 in /usr/local/lib/python3.10/dist-packages (from requests>=2.20->openai) (3.4)\n",
            "Requirement already satisfied: attrs>=17.3.0 in /usr/local/lib/python3.10/dist-packages (from aiohttp->openai) (23.1.0)\n",
            "Requirement already satisfied: multidict<7.0,>=4.5 in /usr/local/lib/python3.10/dist-packages (from aiohttp->openai) (6.0.4)\n",
            "Requirement already satisfied: async-timeout<5.0,>=4.0.0a3 in /usr/local/lib/python3.10/dist-packages (from aiohttp->openai) (4.0.2)\n",
            "Requirement already satisfied: yarl<2.0,>=1.0 in /usr/local/lib/python3.10/dist-packages (from aiohttp->openai) (1.9.2)\n",
            "Requirement already satisfied: frozenlist>=1.1.1 in /usr/local/lib/python3.10/dist-packages (from aiohttp->openai) (1.3.3)\n",
            "Requirement already satisfied: aiosignal>=1.1.2 in /usr/local/lib/python3.10/dist-packages (from aiohttp->openai) (1.3.1)\n",
            "Building wheels for collected packages: googlesearch-python\n",
            "  Building wheel for googlesearch-python (setup.py) ... \u001b[?25l\u001b[?25hdone\n",
            "  Created wheel for googlesearch-python: filename=googlesearch_python-1.2.3-py3-none-any.whl size=4212 sha256=7575e2ba75868ab136765993b2e7963de321c8b3dd3fc7616dec7f7b551d1a05\n",
            "  Stored in directory: /root/.cache/pip/wheels/98/24/e9/6c225502948c629b01cc895f86406819281ef0da385f3eb669\n",
            "Successfully built googlesearch-python\n",
            "Installing collected packages: python-dotenv, googlesearch-python, openai\n",
            "Successfully installed googlesearch-python-1.2.3 openai-0.27.8 python-dotenv-1.0.0\n"
          ]
        },
        {
          "output_type": "execute_result",
          "data": {
            "text/plain": [
              "True"
            ]
          },
          "metadata": {},
          "execution_count": 1
        }
      ],
      "source": [
        "# 設定環境變數\n",
        "# openai 會使用 OPANAI_API_KEY\n",
        "!pip install python-dotenv openai googlesearch-python\n",
        "from dotenv import load_dotenv\n",
        "load_dotenv()"
      ]
    },
    {
      "cell_type": "markdown",
      "source": [
        "## 下載套件"
      ],
      "metadata": {
        "id": "2JmHgsP-Qm56"
      }
    },
    {
      "cell_type": "code",
      "source": [
        "!git clone https://github.com/FlagTech/flagchat.git  flagchat"
      ],
      "metadata": {
        "colab": {
          "base_uri": "https://localhost:8080/"
        },
        "id": "d2q3m6rtPvo4",
        "outputId": "210de89b-4444-4eea-8453-2ce0056bb12d"
      },
      "execution_count": null,
      "outputs": [
        {
          "output_type": "stream",
          "name": "stdout",
          "text": [
            "Cloning into 'flagchat'...\n",
            "remote: Enumerating objects: 20, done.\u001b[K\n",
            "remote: Counting objects: 100% (20/20), done.\u001b[K\n",
            "remote: Compressing objects: 100% (15/15), done.\u001b[K\n",
            "remote: Total 20 (delta 6), reused 14 (delta 4), pack-reused 0\u001b[K\n",
            "Unpacking objects: 100% (20/20), 8.47 KiB | 1.41 MiB/s, done.\n"
          ]
        }
      ]
    },
    {
      "cell_type": "markdown",
      "source": [
        "## 從模組匯入工具函式"
      ],
      "metadata": {
        "id": "BLXdCEVzQtSO"
      }
    },
    {
      "cell_type": "code",
      "source": [
        "from flagchat import (\n",
        "    get_reply,      # 輸入訊息串列傳回回覆\n",
        "    chat,           # 輸入 system, user 發言取得回覆並會記錄對答歷史\n",
        "    func_table      # 記錄可用工具函式的參考表, 預設有 Google 搜尋函式\n",
        ")"
      ],
      "metadata": {
        "id": "HPp3JjAuImG7"
      },
      "execution_count": null,
      "outputs": []
    },
    {
      "cell_type": "markdown",
      "source": [
        "## 單一問答測試\n",
        "\n",
        "get_reply 可以會透過 function calling 機制使用 func_table 傳入的函式表格傳回回覆。模組內預設的 func_table 只有 Google 搜尋函式。\n",
        "\n",
        "```python\n",
        "get_reply(\n",
        "    messages,       # 訊息串列\n",
        "    stream=False    # 是否啟用串流模式\n",
        "    func_table=None # 工具函式參考表\n",
        ")\n",
        "```"
      ],
      "metadata": {
        "id": "HBMPPP5aQRE-"
      }
    },
    {
      "cell_type": "code",
      "execution_count": null,
      "metadata": {
        "colab": {
          "base_uri": "https://localhost:8080/"
        },
        "id": "fLO76nV4Ealo",
        "outputId": "ce77c707-79c3-4036-f231-17c51d72f35e"
      },
      "outputs": [
        {
          "output_type": "stream",
          "name": "stdout",
          "text": [
            "嘗試叫用：_google_res(**{\n",
            "  \"user_msg\": \"2023 NBA冠軍是誰\"\n",
            "})\n",
            "根據已發生的事實，2023年NBA冠軍是丹佛金塊。他們在總冠軍賽中以5勝2敗的成績擊敗了邁阿密熱火，贏得了他們隊史上的第一個NBA總冠軍。\n"
          ]
        }
      ],
      "source": [
        "# 測試非串流方式 function_calling 功能\n",
        "for chunk in get_reply(  # 不論是否串流回覆, 都以生成器統一函式介面\n",
        "    [{\"role\":\"user\", \"content\":\"2023 NBA 冠軍是誰？\"}], # 訊息串列\n",
        "    func_table=func_table):                           # 工具函式表\n",
        "    print(chunk)         # 非串流模式只會生成一次"
      ]
    },
    {
      "cell_type": "code",
      "execution_count": null,
      "metadata": {
        "colab": {
          "base_uri": "https://localhost:8080/"
        },
        "id": "tNioKT6Vodaf",
        "outputId": "871ce2a9-d568-4f6a-fe48-e18966b471ad"
      },
      "outputs": [
        {
          "output_type": "stream",
          "name": "stdout",
          "text": [
            "嘗試叫用：_google_res(**{\n",
            "  \"user_msg\": \"2023 NBA 冠軍是誰？\"\n",
            "})\n",
            "2023年NBA冠軍是丹佛金塊。"
          ]
        }
      ],
      "source": [
        "# 測試串流方式 function_calling 功能\n",
        "for chunk in get_reply(   # 不論是否串流回覆, 都以生成器統一函式介面\n",
        "    [{\"role\":\"user\", \"content\":\"2023 NBA 冠軍是誰？\"}], # 訊息串列\n",
        "    stream=True,                                      # 啟用串流模式\n",
        "    func_table=func_table):                           # 工具函式表\n",
        "    print(chunk, end='')  # 串流方式每次生成片段, 不換行才能接續內容"
      ]
    },
    {
      "cell_type": "code",
      "execution_count": null,
      "metadata": {
        "colab": {
          "base_uri": "https://localhost:8080/"
        },
        "id": "m23Ds5BOtVnS",
        "outputId": "62731f44-f97f-4277-93a3-e5e41b4222c2"
      },
      "outputs": [
        {
          "output_type": "stream",
          "name": "stdout",
          "text": [
            "作为人工智能助手，无法预测未来的体育比赛结果，包括2023年的NBA冠军。NBA比赛的结果取决于许多因素，包括球队的表现、球员的状态和伤病等。因此，只能在比赛结束后才能确定谁将赢得冠军。\n"
          ]
        }
      ],
      "source": [
        "# 測試非串流、無 function calling 功能\n",
        "for chunk in get_reply(\n",
        "    [{\"role\":\"user\", \"content\":\"2023 NBA 冠軍是誰？\"}]):\n",
        "    print(chunk)"
      ]
    },
    {
      "cell_type": "code",
      "execution_count": null,
      "metadata": {
        "colab": {
          "base_uri": "https://localhost:8080/"
        },
        "id": "Ay2vtRj3td6q",
        "outputId": "8bb1162c-740d-4ef6-87ed-60a43f31e555"
      },
      "outputs": [
        {
          "output_type": "stream",
          "name": "stdout",
          "text": [
            "作为AI模型，我不能预测未来的具体结果。因此，我无法准确回答2023年NBA冠军是谁。NBA比赛的结果取决于球队的表现、球员的状态和各种其他因素。最后的结果是由比赛实际情况决定的。"
          ]
        }
      ],
      "source": [
        "# 測試串流、無 function calling 功能\n",
        "for chunk in get_reply(\n",
        "    [{\"role\":\"user\", \"content\":\"2023 NBA 冠軍是誰？\"}],\n",
        "    stream=True):\n",
        "    print(chunk, end='')"
      ]
    },
    {
      "cell_type": "markdown",
      "source": [
        "## 歷史紀錄測試\n",
        "\n",
        "chat 是以 get_reply 函式為基礎, 加上對談歷史紀錄的功能, 可以使用 backtrace 設定要記錄的對談組數。\n",
        "\n",
        "```python\n",
        "chat(\n",
        "    sys_msg,               # system 角色發言\n",
        "    user_msg,              # user 角色發言\n",
        "    stream=False,          # 是否啟用串流模式\n",
        "    func_table=func_table  # 工具函式參考表 (預設是模組內建的參考表)\n",
        ")\n",
        "```"
      ],
      "metadata": {
        "id": "tgZAPh6uTUJQ"
      }
    },
    {
      "cell_type": "code",
      "source": [
        "for chunk in chat(\n",
        "    '小助理',                  # system 角色發言\n",
        "    '2023 NBA 冠軍是誰？',      # user 角色發言\n",
        "    True):                    # 使用串流模式\n",
        "    print(chunk, end='')"
      ],
      "metadata": {
        "colab": {
          "base_uri": "https://localhost:8080/"
        },
        "id": "rYFYP1YIUkS4",
        "outputId": "20360aaf-b4ab-4fd9-d4bc-c75eba998bd7"
      },
      "execution_count": null,
      "outputs": [
        {
          "output_type": "stream",
          "name": "stdout",
          "text": [
            "嘗試叫用：_google_res(**{\n",
            "  \"user_msg\": \"2023 NBA 冠軍\"\n",
            "})\n",
            "根據已知的資訊，2023年NBA冠軍是丹佛金塊隊。他們在2023年總決賽中以5-1的比數擊敗邁阿密熱火隊，贏得了球隊有史以來的第一個NBA總冠軍。"
          ]
        }
      ]
    },
    {
      "cell_type": "markdown",
      "source": [
        "底下會因為有歷史紀錄而影響建議的搜尋關鍵字："
      ],
      "metadata": {
        "id": "iPB1ONTSVGDh"
      }
    },
    {
      "cell_type": "code",
      "source": [
        "for chunk in chat(\n",
        "    '小助理',                 # system 角色發言\n",
        "    '那 2022 呢？',           # user 角色發言 (會延續對答脈絡)\n",
        "    True):                   # 使用串流模式\n",
        "    print(chunk, end='')"
      ],
      "metadata": {
        "colab": {
          "base_uri": "https://localhost:8080/"
        },
        "id": "M0EXetr8U1-Z",
        "outputId": "1be69be4-3f52-43e5-cd51-ca13e6fe018a"
      },
      "execution_count": null,
      "outputs": [
        {
          "output_type": "stream",
          "name": "stdout",
          "text": [
            "嘗試叫用：_google_res(**{\n",
            "  \"user_msg\": \"2022 NBA冠軍是誰？\"\n",
            "})\n",
            "依據已發生的資訊，2022年NBA冠軍是金州勇士隊。他們在2022年總決賽中以4-2的比數擊敗波士頓塞爾提克隊，贏得了球隊自2018年以來的第四個NBA總冠軍。"
          ]
        }
      ]
    },
    {
      "cell_type": "markdown",
      "source": [
        "chat 會使用模組內預設的 func_table, 如果不想啟用, 可以加讓 func_table 參數值 None"
      ],
      "metadata": {
        "id": "NHG1e0UbYvlX"
      }
    },
    {
      "cell_type": "code",
      "source": [
        "for chunk in chat(\n",
        "    '小助理',               # system 角色發言\n",
        "    '那 2022 呢？',         # user 角色發言\n",
        "    True,                  # 串流模式\n",
        "    None):                 # 不使用工具函式參考表 (因此不會搜尋)\n",
        "    print(chunk, end='')"
      ],
      "metadata": {
        "colab": {
          "base_uri": "https://localhost:8080/"
        },
        "id": "TSk0vWjCV9Dw",
        "outputId": "7eb73928-2279-4797-8fc0-0299b5166a95"
      },
      "execution_count": null,
      "outputs": [
        {
          "output_type": "stream",
          "name": "stdout",
          "text": [
            "對不起，我之前的回答有誤。根據我們所知，作為一個語言模型，我們無法預測未來的事件。所以，我無法告訴您2022年的NBA冠軍是哪一隊。您可以關注NBA的賽事，等到真正的比賽結果公佈。"
          ]
        }
      ]
    },
    {
      "cell_type": "markdown",
      "source": [
        "## 連續交談測試\n",
        "\n",
        "以下是使用 chat 設計的聊天程式："
      ],
      "metadata": {
        "id": "UkWkIyA4VPNU"
      }
    },
    {
      "cell_type": "code",
      "execution_count": null,
      "metadata": {
        "colab": {
          "base_uri": "https://localhost:8080/"
        },
        "id": "1rR4R1uOuLhx",
        "outputId": "91bce67a-59d4-42dd-a633-5b67255c1266"
      },
      "outputs": [
        {
          "name": "stdout",
          "output_type": "stream",
          "text": [
            "你希望ㄟ唉扮演：\n",
            "\n",
            "你說：2023 年的 NBA 冠軍是哪一隊？\n",
            "小助理：嘗試叫用：_google_res(**{\n",
            "  \"user_msg\": \"2023年NBA冠軍是哪一隊\"\n",
            "})\n",
            "2023年NBA冠軍是丹佛金塊。\n",
            "\n",
            "你說：那 2021 年呢？\n",
            "小助理：嘗試叫用：_google_res(**{\n",
            "  \"user_msg\": \"2021 NBA冠軍是哪一隊\"\n",
            "})\n",
            "2021年NBA冠軍是密爾瓦基公鹿。\n",
            "\n",
            "你說：那 2022 年？\n",
            "小助理：嘗試叫用：_google_res(**{\n",
            "  \"user_msg\": \"NBA 2022 Championship\"\n",
            "})\n",
            "根據上述事實，2022年NBA冠軍是金州勇士。\n",
            "\n",
            "你說：\n"
          ]
        }
      ],
      "source": [
        "sys_msg = input(\"你希望ㄟ唉扮演：\")\n",
        "if not sys_msg.strip(): sys_msg = '小助理'\n",
        "print()\n",
        "while True:\n",
        "    msg = input(\"你說：\")\n",
        "    if not msg.strip(): break\n",
        "    print(f\"{sys_msg}：\", end = \"\")\n",
        "    for reply in chat(sys_msg, msg, stream=True):\n",
        "        print(reply, end = \"\")\n",
        "    print('\\n')\n",
        "hist = []"
      ]
    },
    {
      "cell_type": "markdown",
      "source": [
        "## 新增工具函式\n",
        "\n",
        "以文字生圖為例"
      ],
      "metadata": {
        "id": "3Y8v2zZQzIpC"
      }
    },
    {
      "cell_type": "code",
      "source": [
        "import openai"
      ],
      "metadata": {
        "id": "HtI2s6sWzVic"
      },
      "execution_count": null,
      "outputs": []
    },
    {
      "cell_type": "markdown",
      "source": [
        "用 Image API 設計一個文生圖的工具函式："
      ],
      "metadata": {
        "id": "FbkO6IE_VkEn"
      }
    },
    {
      "cell_type": "code",
      "source": [
        "def txt_to_img_url(prompt):\n",
        "    response = openai.Image.create(\n",
        "        prompt=prompt,                 # 描述文字\n",
        "        n=1,                           # 張數\n",
        "        size='1024x1024')              # 尺寸\n",
        "    return response['data'][0]['url']"
      ],
      "metadata": {
        "id": "ge1xqcrCBeWd"
      },
      "execution_count": null,
      "outputs": []
    },
    {
      "cell_type": "markdown",
      "source": [
        "在工具函式表中新增項目, 生圖後不需要再送回給 AI 處理, 所以 chain 項目設為 False："
      ],
      "metadata": {
        "id": "14aHGxcmVoAG"
      }
    },
    {
      "cell_type": "code",
      "source": [
        "func_table.append(\n",
        "    {                    # 每個元素代表一個函式\n",
        "        \"chain\": False,  # 生圖後不需要傳回給 API\n",
        "        \"func\": txt_to_img_url,\n",
        "        \"spec\": {        # function calling 需要的函式規格\n",
        "            \"name\": \"txt_to_img_url\",\n",
        "            \"description\": \"可由文字生圖並傳回圖像網址\",\n",
        "            \"parameters\": {\n",
        "                \"type\": \"object\",\n",
        "                \"properties\": {\n",
        "                    \"prompt\": {\n",
        "                        \"type\": \"string\",\n",
        "                        \"description\": \"描述要產生圖像內容的文字\",\n",
        "                    }\n",
        "                },\n",
        "                \"required\": [\"prompt\"],\n",
        "            },\n",
        "        }\n",
        "    }\n",
        ")"
      ],
      "metadata": {
        "id": "wh0CFGhiC07Y"
      },
      "execution_count": null,
      "outputs": []
    },
    {
      "cell_type": "markdown",
      "source": [
        "測試看看是不是可以正確生圖？"
      ],
      "metadata": {
        "id": "uIEEJYlYV-cS"
      }
    },
    {
      "cell_type": "code",
      "source": [
        "for chunk in chat('小助理', '我想要夕陽下海豚躍出海面的圖像', True):\n",
        "    print(chunk)"
      ],
      "metadata": {
        "colab": {
          "base_uri": "https://localhost:8080/"
        },
        "id": "Q42dWiLwDvNp",
        "outputId": "2ef2b206-8a02-4164-ac9c-e39fb70a3895"
      },
      "execution_count": null,
      "outputs": [
        {
          "output_type": "stream",
          "name": "stdout",
          "text": [
            "嘗試叫用：txt_to_img_url(**{'prompt': '夕陽下海豚躍出海面的圖像'})\n",
            "https://oaidalleapiprodscus.blob.core.windows.net/private/org-bKARbCV5aOcKJXm3SpwJwnXB/user-hwS8wMY6Z8ZzjiE3tcFcl4mM/img-tc2aFauikvuTWuwIJwIlJtDy.png?st=2023-07-12T03%3A22%3A18Z&se=2023-07-12T05%3A22%3A18Z&sp=r&sv=2021-08-06&sr=b&rscd=inline&rsct=image/png&skoid=6aaadede-4fb3-4698-a8f6-684d7786b067&sktid=a48cca56-e6da-484e-a814-9c849652bcb3&skt=2023-07-11T21%3A30%3A27Z&ske=2023-07-12T21%3A30%3A27Z&sks=b&skv=2021-08-06&sig=O9fQPEI9xq8EbruKZ/nAfFI5ebwpwse5n4kFtC4BYVM%3D\n"
          ]
        }
      ]
    }
  ],
  "metadata": {
    "colab": {
      "provenance": [],
      "include_colab_link": true
    },
    "kernelspec": {
      "display_name": "Python 3",
      "name": "python3"
    },
    "language_info": {
      "name": "python"
    }
  },
  "nbformat": 4,
  "nbformat_minor": 0
}